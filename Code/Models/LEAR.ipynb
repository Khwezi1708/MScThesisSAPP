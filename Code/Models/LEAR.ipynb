{
 "cells": [
  {
   "cell_type": "markdown",
   "id": "43a0c8ec",
   "metadata": {},
   "source": [
    "In this file, the LEAR (Lagged Error Auto-Regressive) model will be applied to forecast the price based on historical price data. This serves as a benchmark model to evaluate the performance of other more complex forecasting methods. The LEAR model will use the historical data to predict future prices and assess its effectiveness in capturing trends and fluctuations in the pricing data."
   ]
  },
  {
   "cell_type": "code",
   "execution_count": 1,
   "id": "b376668d",
   "metadata": {},
   "outputs": [],
   "source": [
    "# Imports\n",
    "import pandas as pd\n",
    "from sklearn.model_selection import train_test_split\n",
    "from sklearn.linear_model import Lasso\n",
    "\n",
    "from functions import plot_comparison, evaluate_model"
   ]
  },
  {
   "cell_type": "code",
   "execution_count": 2,
   "id": "6ad8cbeb",
   "metadata": {},
   "outputs": [],
   "source": [
    "df = pd.read_csv('../../Data/zra_sgp_dam.csv')\n",
    "\n",
    "# Convert the 'Date' column to datetime if it's not already\n",
    "df['Date'] = pd.to_datetime(df['Date'])\n",
    "# Set the Date column as index\n",
    "df.set_index('Date', inplace=True)"
   ]
  },
  {
   "cell_type": "code",
   "execution_count": 3,
   "id": "de0bb8d0",
   "metadata": {},
   "outputs": [],
   "source": [
    "# Generate lag features\n",
    "df['price_lag30d'] = df['Price (USD/MWh)'].shift(24*30)\n",
    "df['price_lag30d'] = df['price_lag30d'].fillna(df['Price (USD/MWh)'])  # Fill with actual price for 30-day lag\n",
    "\n",
    "df['price_lag60d'] = df['Price (USD/MWh)'].shift(24*60)\n",
    "df['price_lag60d'] = df['price_lag60d'].fillna(df['Price (USD/MWh)'])  # Fill with actual price for 60-day lag\n",
    "\n",
    "df['price_lag90d'] = df['Price (USD/MWh)'].shift(24*90)\n",
    "df['price_lag90d'] = df['price_lag90d'].fillna(df['Price (USD/MWh)'])  # Fill with actual price for 90-day lag\n"
   ]
  },
  {
   "cell_type": "markdown",
   "id": "8816c9bb",
   "metadata": {},
   "source": [
    "Lookback = 7\n"
   ]
  },
  {
   "cell_type": "code",
   "execution_count": null,
   "id": "41926544",
   "metadata": {},
   "outputs": [],
   "source": [
    "import time\n",
    "import pandas as pd\n",
    "import numpy as np\n",
    "from sklearn.linear_model import Lasso\n",
    "from sklearn.model_selection import train_test_split\n",
    "from sklearn.metrics import mean_absolute_error, mean_squared_error, r2_score\n",
    "\n",
    "lookbacks = [7, 30, 60, 90]\n",
    "\n",
    "results = []\n",
    "\n",
    "for lookback in lookbacks:\n",
    "    print(f\"\\n--- Lookback: {lookback} days ---\")\n",
    "    \n",
    "    feature_col = f'price_lag{lookback}d'\n",
    "    if feature_col not in df.columns:\n",
    "        print(f\"Missing column: {feature_col}\")\n",
    "        continue\n",
    "\n",
    "    # Features and target\n",
    "    X = df[[feature_col]]\n",
    "    y = df['Price (USD/MWh)']\n",
    "\n",
    "    # Train-validation-test split (70-15-15)\n",
    "    X_train, X_temp, y_train, y_temp = train_test_split(X, y, test_size=0.3, shuffle=False)\n",
    "    X_val, X_test, y_val, y_test = train_test_split(X_temp, y_temp, test_size=0.5, shuffle=False)\n",
    "\n",
    "    # Model\n",
    "    model = Lasso(alpha=0.1)\n",
    "\n",
    "    # Training time\n",
    "    start_time = time.time()\n",
    "    model.fit(X_train, y_train)\n",
    "    training_time = time.time() - start_time\n",
    "\n",
    "    # Predictions\n",
    "    y_val_pred = model.predict(X_val)\n",
    "    y_test_pred = model.predict(X_test)\n",
    "\n",
    "    # Evaluation Function\n",
    "    def evaluate(y_true, y_pred):\n",
    "        y_true = np.array(y_true)\n",
    "        y_pred = np.array(y_pred)\n",
    "\n",
    "        mae = mean_absolute_error(y_true, y_pred)\n",
    "        rmse = mean_squared_error(y_true, y_pred, squared=False)\n",
    "        r2 = r2_score(y_true, y_pred)\n",
    "\n",
    "        # Directional accuracy (change in predicted vs actual direction)\n",
    "        true_diff = np.diff(y_true)\n",
    "        pred_diff = np.diff(y_pred)\n",
    "        dae = np.mean(np.sign(true_diff) == np.sign(pred_diff))\n",
    "\n",
    "        lower_pct = np.mean(y_pred < y_true) * 100\n",
    "        return mae, rmse, r2, dae, lower_pct\n",
    "\n",
    "\n",
    "    # Validation metrics\n",
    "    val_mae, val_rmse, val_r2, val_dae, val_lower = evaluate(y_val, y_val_pred)\n",
    "    \n",
    "    # Test metrics\n",
    "    test_mae, test_rmse, test_r2, test_dae, test_lower = evaluate(y_test, y_test_pred)\n",
    "\n",
    "    # Collect results\n",
    "    results.append({\n",
    "        'Lookback': lookback,\n",
    "        'Training Time (s)': round(training_time, 4),\n",
    "        \n",
    "        'Val MAE': round(val_mae, 2),\n",
    "        'Val DAE': round(val_dae, 2),\n",
    "        'Val RMSE': round(val_rmse, 2),\n",
    "        'Val R2': round(val_r2, 2),\n",
    "        # 'Val DAE': round(val_dae, 2),\n",
    "        'Val Lower Predictions %': round(val_lower, 1),\n",
    "        \n",
    "        'Test MAE': round(test_mae, 2),\n",
    "        'Test DAE': round(test_dae, 2),\n",
    "        'Test RMSE': round(test_rmse, 2),\n",
    "        'Test R2': round(test_r2, 2),\n",
    "        # 'Test DAE': round(test_dae, 2),\n",
    "        'Test Lower Predictions %': round(test_lower, 1),\n",
    "    })\n",
    "\n",
    "    # Create DataFrame of results\n",
    "    results_df = pd.DataFrame(results)\n",
    "    print(\"\\nSummary Results:\")\n",
    "    print(results_df)\n"
   ]
  },
  {
   "cell_type": "code",
   "execution_count": null,
   "id": "3b62d7c1",
   "metadata": {},
   "outputs": [],
   "source": [
    "plot_comparison(y_test,y_test_pred,df, 'month')"
   ]
  },
  {
   "cell_type": "code",
   "execution_count": null,
   "id": "7926028c",
   "metadata": {},
   "outputs": [],
   "source": [
    "evaluate_model(y_val, y_val_pred, y_test, y_test_pred, X_val, X_test, plot_fig=None)"
   ]
  }
 ],
 "metadata": {
  "kernelspec": {
   "display_name": "base",
   "language": "python",
   "name": "python3"
  },
  "language_info": {
   "codemirror_mode": {
    "name": "ipython",
    "version": 3
   },
   "file_extension": ".py",
   "mimetype": "text/x-python",
   "name": "python",
   "nbconvert_exporter": "python",
   "pygments_lexer": "ipython3",
   "version": "3.12.4"
  }
 },
 "nbformat": 4,
 "nbformat_minor": 5
}
